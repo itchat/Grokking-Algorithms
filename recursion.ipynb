{
 "cells": [
  {
   "cell_type": "markdown",
   "metadata": {},
   "source": [
    "# Recursion\n",
    "\n",
    "*Page 30 ~ 40*  \n",
    "1. The idea of Stack.\n",
    "2. Fibonacci optimization.\n",
    "3. The idea of dynamic programming\n",
    "4. http://pythontutor.com/"
   ]
  },
  {
   "cell_type": "code",
   "execution_count": 41,
   "metadata": {},
   "outputs": [],
   "source": [
    "def Fibonacci(num:int) -> int:\n",
    "    if num in {0,1}:\n",
    "        return num\n",
    "    else:\n",
    "        return Fibonacci(num-1) + Fibonacci(num-2)\n",
    "print(Fibonacci(900))"
   ]
  },
  {
   "cell_type": "markdown",
   "metadata": {},
   "source": [
    "## Fibonacci\n",
    "\n",
    "$f1=0$  \n",
    "$f2=1$  \n",
    "$f3=0+1=1$  \n",
    "$f4=1+1=2$  \n",
    "$f5=2+1=3$  \n",
    "$f6=3+2=5$\n",
    "\n",
    "Thus, $Fn = F(n-1) + F(n-2)$  \n",
    "\n",
    "F(9) = [0,1,1,2,3,5,8,13,21,34]  \n",
    "\n",
    "### Recursion call stack\n",
    "\n",
    "**Fibonacci(5)**\n",
    "\n",
    "![](https://files.realpython.com/media/Screen_Shot_2021-06-04_at_3.24.02_PM.49155bd58b7d.png)\n",
    "\n",
    "As we can see, there are five \"1\", sum of them = 5.\n",
    "\n",
    "Recursion is more like a tree, each tree has its same structure."
   ]
  },
  {
   "cell_type": "markdown",
   "metadata": {},
   "source": [
    "## Memoizing the Recursive Algorithm\n",
    "![https://files.realpython.com/media/Screen_Shot_2021-06-03_at_10.24.56_PM.dde28642334d.pngs]"
   ]
  },
  {
   "cell_type": "code",
   "execution_count": null,
   "metadata": {},
   "outputs": [
    {
     "name": "stdout",
     "output_type": "stream",
     "text": [
      "54877108839480000051413673948383714443800519309123592724494953427039811201064341234954387521525390615504949092187441218246679104731442473022013980160407007017175697317900483275246652938800\n"
     ]
    }
   ],
   "source": [
    "from functools import lru_cache\n",
    "\n",
    "@lru_cache(maxsize=None)\n",
    "def fib(n:int) -> int:\n",
    "    if n in {0,1}:\n",
    "        return n\n",
    "    return fib(n-1) + fib(n-2)\n",
    "print(fib(900))"
   ]
  },
  {
   "cell_type": "code",
   "execution_count": null,
   "metadata": {},
   "outputs": [
    {
     "name": "stdout",
     "output_type": "stream",
     "text": [
      "54877108839480000051413673948383714443800519309123592724494953427039811201064341234954387521525390615504949092187441218246679104731442473022013980160407007017175697317900483275246652938800\n"
     ]
    }
   ],
   "source": [
    "cache = {0: 0, 1: 1}\n",
    "def fibonacci_of(n):\n",
    "    if n in cache:  # Base case\n",
    "        return cache[n]\n",
    "    # Compute and cache the Fibonacci number\n",
    "    cache[n] = fibonacci_of(n - 1) + fibonacci_of(n - 2)  # Recursive case\n",
    "    return cache[n]\n",
    "print(fibonacci_of(900))"
   ]
  },
  {
   "cell_type": "markdown",
   "metadata": {},
   "source": [
    "As we can see, use saved a tons of time."
   ]
  }
 ],
 "metadata": {
  "kernelspec": {
   "display_name": "Python 3.10.4 64-bit",
   "language": "python",
   "name": "python3"
  },
  "language_info": {
   "codemirror_mode": {
    "name": "ipython",
    "version": 3
   },
   "file_extension": ".py",
   "mimetype": "text/x-python",
   "name": "python",
   "nbconvert_exporter": "python",
   "pygments_lexer": "ipython3",
   "version": "3.10.4"
  },
  "orig_nbformat": 4,
  "vscode": {
   "interpreter": {
    "hash": "2469a70536e4d2335a2ea8907942d0699c37342a371ac185bdb5b0aa6f073890"
   }
  }
 },
 "nbformat": 4,
 "nbformat_minor": 2
}
