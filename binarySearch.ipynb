{
 "cells": [
  {
   "cell_type": "markdown",
   "metadata": {},
   "source": [
    "# Intro\n",
    "- Worst time complexity: $O(n)$\n",
    "- Average time complexity: $\\theta(log_2n)$\n",
    "- Binary Search can only be used for sorted lists.\n",
    "\n",
    "## Animation\n",
    "![](https://blog.penjee.com/wp-content/uploads/2015/04/binary-and-linear-search-animations.gif)\n",
    "\n",
    "## Interval\n",
    "Binary Search can be implemented in many ways, but the core difference is interval.  \n",
    "\n",
    "### What is interval?\n",
    "- [0,20] means $0 < x < 20$\n",
    "- (0,20] means $0 \\leq x < 20$"
   ]
  },
  {
   "cell_type": "code",
   "execution_count": 1,
   "metadata": {},
   "outputs": [
    {
     "name": "stdout",
     "output_type": "stream",
     "text": [
      "6\n"
     ]
    }
   ],
   "source": [
    "class Solution:\n",
    "    def binarySearch(self,inputList:list,target:int) -> int:\n",
    "        left, right = 0, len(inputList) - 1\n",
    "        while left <= right:\n",
    "            mid = int((left + right)/2)\n",
    "            guess = inputList[mid]\n",
    "            if guess == target:\n",
    "                return mid\n",
    "            elif guess < target:\n",
    "                left = mid + 1\n",
    "            elif guess > target:\n",
    "                right = mid - 1\n",
    "        return -1\n",
    "print(Solution().binarySearch([1,2,3,4,5,6,7],7))"
   ]
  },
  {
   "cell_type": "markdown",
   "metadata": {},
   "source": [
    "## Process simulation\n",
    "1. Range [index 0, index 6] → mid = index 3 which is 4 - low = mid + 1\n",
    "2. Range [index 4,index 6] → mid = index 5 which is 6 - low = mid + 1\n",
    "3. Range [index 5,index 6] → mid = index 5 - low = mid + 1\n",
    "6. Range [index 6, index 6] → mid = index 6 which is 7 - Bingo!"
   ]
  }
 ],
 "metadata": {
  "kernelspec": {
   "display_name": "Python 3.10.4 64-bit",
   "language": "python",
   "name": "python3"
  },
  "language_info": {
   "codemirror_mode": {
    "name": "ipython",
    "version": 3
   },
   "file_extension": ".py",
   "mimetype": "text/x-python",
   "name": "python",
   "nbconvert_exporter": "python",
   "pygments_lexer": "ipython3",
   "version": "3.10.4"
  },
  "orig_nbformat": 4,
  "vscode": {
   "interpreter": {
    "hash": "2469a70536e4d2335a2ea8907942d0699c37342a371ac185bdb5b0aa6f073890"
   }
  }
 },
 "nbformat": 4,
 "nbformat_minor": 2
}
