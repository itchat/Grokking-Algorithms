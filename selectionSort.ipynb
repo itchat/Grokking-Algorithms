{
 "cells": [
  {
   "cell_type": "markdown",
   "metadata": {},
   "source": [
    "# Intro\n",
    "- Worst time complexity: $O(n^2)$\n",
    "- Average time complexity: $\\theta(n^2)$\n",
    "- Think about the array data structure and spilt it to two functions.\n",
    "\n",
    "## Animation\n",
    "![](https://commons.wikimedia.org/wiki/File:Sorting_selection_sort_anim.gif)"
   ]
  },
  {
   "cell_type": "code",
   "execution_count": null,
   "metadata": {},
   "outputs": [],
   "source": [
    "def findSmallest(arr:list) -> int:\n",
    "    smallest = arr[0]\n",
    "    smallest_index = 0\n",
    "    for i in range(1,len(arr)):\n",
    "        if smallest > arr[i]:\n",
    "            smallest = arr[i]\n",
    "            smallest_index = i\n",
    "    return smallest_index\n",
    "\n",
    "def selectionSort(arr:list) -> list:\n",
    "    newArr = []\n",
    "    for i in range(len(arr)):\n",
    "        smallest = findSmallest(arr)\n",
    "        newArr.append(arr.pop(smallest))\n",
    "    return newArr\n",
    "print(selectionSort([9,8,7,6,5,4,3,2,1]))"
   ]
  },
  {
   "cell_type": "markdown",
   "metadata": {},
   "source": [
    "1. findSmallest is used to find the smallest element in a single loop.\n",
    "2. selectionSort is used to pop out the smallest element from the old array then add it to the new one."
   ]
  },
  {
   "cell_type": "markdown",
   "metadata": {},
   "source": [
    "*The following code is the messy version:*"
   ]
  },
  {
   "cell_type": "code",
   "execution_count": 1,
   "metadata": {},
   "outputs": [
    {
     "name": "stdout",
     "output_type": "stream",
     "text": [
      "[1, 2, 3, 4, 5, 6, 7]\n"
     ]
    }
   ],
   "source": [
    "class Solution:\n",
    "    def seleSort(self,myList:list) -> None:\n",
    "        for i in range(0,len(myList) - 1):\n",
    "            for j in range(i + 1,len(myList)):\n",
    "                if myList[i] > myList[j]:\n",
    "                    myList[i], myList[j] = myList[j], myList[i]\n",
    "        return myList\n",
    "print(Solution().seleSort([7,6,5,4,3,2,1]))"
   ]
  }
 ],
 "metadata": {
  "kernelspec": {
   "display_name": "Python 3.10.4 64-bit",
   "language": "python",
   "name": "python3"
  },
  "language_info": {
   "codemirror_mode": {
    "name": "ipython",
    "version": 3
   },
   "file_extension": ".py",
   "mimetype": "text/x-python",
   "name": "python",
   "nbconvert_exporter": "python",
   "pygments_lexer": "ipython3",
   "version": "3.10.4"
  },
  "orig_nbformat": 4,
  "vscode": {
   "interpreter": {
    "hash": "2469a70536e4d2335a2ea8907942d0699c37342a371ac185bdb5b0aa6f073890"
   }
  }
 },
 "nbformat": 4,
 "nbformat_minor": 2
}
